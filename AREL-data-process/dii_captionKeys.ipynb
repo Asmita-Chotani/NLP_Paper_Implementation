{
 "cells": [
  {
   "cell_type": "code",
   "execution_count": 20,
   "metadata": {},
   "outputs": [],
   "source": [
    "import json\n",
    "import os.path as osp\n",
    "# import matplotlib.pyplot as plt\n",
    "from collections import OrderedDict\n",
    "import os\n",
    "base_path = \"\"\n",
    "train_data = json.load(open(osp.join(base_path, \"train.description-in-isolation.json\")))\n",
    "val_data = json.load(open(osp.join(base_path, \"val.description-in-isolation.json\")))\n",
    "test_data = json.load(open(osp.join(base_path, \"test.description-in-isolation.json\")))\n"
   ]
  },
  {
   "cell_type": "code",
   "execution_count": 21,
   "metadata": {},
   "outputs": [],
   "source": [
    "val_caption_data={}\n",
    "base_path_val = '../VIST/resnet_features/fc/val'\n",
    "for value in val_data['annotations']:\n",
    "    # Check if the file exists\n",
    "    f_path = value[0]['photo_flickr_id']+'.npy'\n",
    "    file_path= osp.join(base_path_val,f_path)\n",
    "    if os.path.isfile(file_path):\n",
    "       list_d=value[0]\n",
    "       val_caption_data[list_d['photo_flickr_id']]=list_d['original_text']"
   ]
  },
  {
   "cell_type": "code",
   "execution_count": 22,
   "metadata": {},
   "outputs": [],
   "source": [
    "train_caption_data={}\n",
    "base_path = '../VIST/resnet_features/fc/train'\n",
    "for value in train_data['annotations']:\n",
    "    # Check if the file exists\n",
    "    f_path = value[0]['photo_flickr_id']+'.npy'\n",
    "    file_path= osp.join(base_path,f_path)\n",
    "    if os.path.isfile(file_path):\n",
    "       list_d=value[0]\n",
    "       train_caption_data[list_d['photo_flickr_id']]=list_d['original_text']\n",
    "\n",
    "    "
   ]
  },
  {
   "cell_type": "code",
   "execution_count": 23,
   "metadata": {},
   "outputs": [],
   "source": [
    "test_caption_data={}\n",
    "base_path_test = '../VIST/resnet_features/fc/test'\n",
    "for value in test_data['annotations']:\n",
    "     # Check if the file exists\n",
    "    f_path = value[0]['photo_flickr_id']+'.npy'\n",
    "    file_path= osp.join(base_path_test,f_path)\n",
    "    if os.path.isfile(file_path):\n",
    "       list_d=value[0]\n",
    "       test_caption_data[list_d['photo_flickr_id']]=list_d['original_text']"
   ]
  },
  {
   "cell_type": "code",
   "execution_count": 24,
   "metadata": {},
   "outputs": [],
   "source": [
    "with open('val_caption_data.json', 'w') as f:\n",
    "  f.write(json.dumps(val_caption_data))\n",
    "\n",
    "with open('train_caption_data.json', 'w') as f:\n",
    "  f.write(json.dumps(train_caption_data))\n",
    "\n",
    "with open('test_caption_data.json', 'w') as f:\n",
    "  f.write(json.dumps(test_caption_data))"
   ]
  },
  {
   "cell_type": "code",
   "execution_count": 25,
   "metadata": {},
   "outputs": [],
   "source": [
    "# import pickle\n",
    "# from image_captioning.build_vocab import Vocabulary\n",
    "\n",
    "# # Load data from pkl file\n",
    "# with open('../image_captioning/data/vocab.pkl', 'rb') as f:\n",
    "#     data = pickle.load(f)\n",
    "\n",
    "# # Display loaded data\n",
    "# print(data)"
   ]
  },
  {
   "cell_type": "code",
   "execution_count": 26,
   "metadata": {},
   "outputs": [],
   "source": [
    "# import os\n",
    "\n",
    "# # Specify the path to the file you want to check\n",
    "# base_path = '../VIST/resnet_features/fc/train'\n",
    "\n",
    "# # Check if the file exists\n",
    "# if os.path.isfile(file_path):\n",
    "#     print('File exists')\n",
    "# else:\n",
    "#     print('File does not exist')"
   ]
  },
  {
   "cell_type": "code",
   "execution_count": null,
   "metadata": {},
   "outputs": [],
   "source": []
  }
 ],
 "metadata": {
  "kernelspec": {
   "display_name": "Python 3",
   "language": "python",
   "name": "python3"
  },
  "language_info": {
   "codemirror_mode": {
    "name": "ipython",
    "version": 3
   },
   "file_extension": ".py",
   "mimetype": "text/x-python",
   "name": "python",
   "nbconvert_exporter": "python",
   "pygments_lexer": "ipython3",
   "version": "3.9.16"
  },
  "orig_nbformat": 4
 },
 "nbformat": 4,
 "nbformat_minor": 2
}
